{
 "cells": [
  {
   "cell_type": "code",
   "execution_count": 1,
   "metadata": {},
   "outputs": [
    {
     "data": {
      "text/plain": [
       "RendererRegistry.enable('notebook')"
      ]
     },
     "execution_count": 1,
     "metadata": {},
     "output_type": "execute_result"
    }
   ],
   "source": [
    "import pandas as pd\n",
    "import altair as alt\n",
    "alt.renderers.enable('notebook')"
   ]
  },
  {
   "cell_type": "code",
   "execution_count": 5,
   "metadata": {},
   "outputs": [
    {
     "data": {
      "text/html": [
       "<div>\n",
       "<style scoped>\n",
       "    .dataframe tbody tr th:only-of-type {\n",
       "        vertical-align: middle;\n",
       "    }\n",
       "\n",
       "    .dataframe tbody tr th {\n",
       "        vertical-align: top;\n",
       "    }\n",
       "\n",
       "    .dataframe thead th {\n",
       "        text-align: right;\n",
       "    }\n",
       "</style>\n",
       "<table border=\"1\" class=\"dataframe\">\n",
       "  <thead>\n",
       "    <tr style=\"text-align: right;\">\n",
       "      <th></th>\n",
       "      <th>Text</th>\n",
       "      <th>Author</th>\n",
       "      <th>Positive</th>\n",
       "      <th>Negative</th>\n",
       "      <th>Neutral</th>\n",
       "    </tr>\n",
       "  </thead>\n",
       "  <tbody>\n",
       "    <tr>\n",
       "      <th>0</th>\n",
       "      <td>jew_of_malta.txt</td>\n",
       "      <td>Marlowe</td>\n",
       "      <td>0.120</td>\n",
       "      <td>0.090</td>\n",
       "      <td>0.790</td>\n",
       "    </tr>\n",
       "    <tr>\n",
       "      <th>1</th>\n",
       "      <td>massacre_at_paris.txt</td>\n",
       "      <td>Marlowe</td>\n",
       "      <td>0.121</td>\n",
       "      <td>0.080</td>\n",
       "      <td>0.798</td>\n",
       "    </tr>\n",
       "    <tr>\n",
       "      <th>2</th>\n",
       "      <td>tamburlaine.txt</td>\n",
       "      <td>Marlowe</td>\n",
       "      <td>0.141</td>\n",
       "      <td>0.091</td>\n",
       "      <td>0.768</td>\n",
       "    </tr>\n",
       "    <tr>\n",
       "      <th>3</th>\n",
       "      <td>faustus.txt</td>\n",
       "      <td>Marlowe</td>\n",
       "      <td>0.119</td>\n",
       "      <td>0.089</td>\n",
       "      <td>0.792</td>\n",
       "    </tr>\n",
       "    <tr>\n",
       "      <th>4</th>\n",
       "      <td>dido_queen_of_carthage.txt</td>\n",
       "      <td>Marlowe</td>\n",
       "      <td>0.087</td>\n",
       "      <td>0.062</td>\n",
       "      <td>0.851</td>\n",
       "    </tr>\n",
       "    <tr>\n",
       "      <th>5</th>\n",
       "      <td>edward_II.txt</td>\n",
       "      <td>Marlowe</td>\n",
       "      <td>0.133</td>\n",
       "      <td>0.112</td>\n",
       "      <td>0.755</td>\n",
       "    </tr>\n",
       "    <tr>\n",
       "      <th>6</th>\n",
       "      <td>hero_and_leander.txt</td>\n",
       "      <td>Marlowe</td>\n",
       "      <td>0.190</td>\n",
       "      <td>0.100</td>\n",
       "      <td>0.710</td>\n",
       "    </tr>\n",
       "    <tr>\n",
       "      <th>7</th>\n",
       "      <td>henry_vi_3.txt</td>\n",
       "      <td>Shakespeare</td>\n",
       "      <td>0.122</td>\n",
       "      <td>0.084</td>\n",
       "      <td>0.794</td>\n",
       "    </tr>\n",
       "    <tr>\n",
       "      <th>8</th>\n",
       "      <td>love_labours_lost.txt</td>\n",
       "      <td>Shakespeare</td>\n",
       "      <td>0.179</td>\n",
       "      <td>0.093</td>\n",
       "      <td>0.729</td>\n",
       "    </tr>\n",
       "    <tr>\n",
       "      <th>9</th>\n",
       "      <td>henry_vi_2.txt</td>\n",
       "      <td>Shakespeare</td>\n",
       "      <td>0.114</td>\n",
       "      <td>0.089</td>\n",
       "      <td>0.797</td>\n",
       "    </tr>\n",
       "    <tr>\n",
       "      <th>10</th>\n",
       "      <td>henry_vi_1.txt</td>\n",
       "      <td>Shakespeare</td>\n",
       "      <td>0.138</td>\n",
       "      <td>0.132</td>\n",
       "      <td>0.731</td>\n",
       "    </tr>\n",
       "    <tr>\n",
       "      <th>11</th>\n",
       "      <td>richard_iii.txt</td>\n",
       "      <td>Shakespeare</td>\n",
       "      <td>0.157</td>\n",
       "      <td>0.147</td>\n",
       "      <td>0.695</td>\n",
       "    </tr>\n",
       "    <tr>\n",
       "      <th>12</th>\n",
       "      <td>taming_of_the_shrew.txt</td>\n",
       "      <td>Shakespeare</td>\n",
       "      <td>0.159</td>\n",
       "      <td>0.073</td>\n",
       "      <td>0.767</td>\n",
       "    </tr>\n",
       "    <tr>\n",
       "      <th>13</th>\n",
       "      <td>two_gentleman_of_verona.txt</td>\n",
       "      <td>Shakespeare</td>\n",
       "      <td>0.174</td>\n",
       "      <td>0.093</td>\n",
       "      <td>0.733</td>\n",
       "    </tr>\n",
       "    <tr>\n",
       "      <th>14</th>\n",
       "      <td>comedy_of_errors.txt</td>\n",
       "      <td>Shakespeare</td>\n",
       "      <td>0.086</td>\n",
       "      <td>0.085</td>\n",
       "      <td>0.829</td>\n",
       "    </tr>\n",
       "    <tr>\n",
       "      <th>15</th>\n",
       "      <td>edward_iii.txt</td>\n",
       "      <td>Shakespeare</td>\n",
       "      <td>0.152</td>\n",
       "      <td>0.126</td>\n",
       "      <td>0.721</td>\n",
       "    </tr>\n",
       "    <tr>\n",
       "      <th>16</th>\n",
       "      <td>titus_andronicus.txt</td>\n",
       "      <td>Shakespeare</td>\n",
       "      <td>0.140</td>\n",
       "      <td>0.137</td>\n",
       "      <td>0.723</td>\n",
       "    </tr>\n",
       "  </tbody>\n",
       "</table>\n",
       "</div>"
      ],
      "text/plain": [
       "                           Text       Author  Positive  Negative  Neutral\n",
       "0              jew_of_malta.txt      Marlowe     0.120     0.090    0.790\n",
       "1         massacre_at_paris.txt      Marlowe     0.121     0.080    0.798\n",
       "2               tamburlaine.txt      Marlowe     0.141     0.091    0.768\n",
       "3                   faustus.txt      Marlowe     0.119     0.089    0.792\n",
       "4    dido_queen_of_carthage.txt      Marlowe     0.087     0.062    0.851\n",
       "5                 edward_II.txt      Marlowe     0.133     0.112    0.755\n",
       "6          hero_and_leander.txt      Marlowe     0.190     0.100    0.710\n",
       "7                henry_vi_3.txt  Shakespeare     0.122     0.084    0.794\n",
       "8         love_labours_lost.txt  Shakespeare     0.179     0.093    0.729\n",
       "9                henry_vi_2.txt  Shakespeare     0.114     0.089    0.797\n",
       "10               henry_vi_1.txt  Shakespeare     0.138     0.132    0.731\n",
       "11              richard_iii.txt  Shakespeare     0.157     0.147    0.695\n",
       "12      taming_of_the_shrew.txt  Shakespeare     0.159     0.073    0.767\n",
       "13  two_gentleman_of_verona.txt  Shakespeare     0.174     0.093    0.733\n",
       "14         comedy_of_errors.txt  Shakespeare     0.086     0.085    0.829\n",
       "15               edward_iii.txt  Shakespeare     0.152     0.126    0.721\n",
       "16         titus_andronicus.txt  Shakespeare     0.140     0.137    0.723"
      ]
     },
     "execution_count": 5,
     "metadata": {},
     "output_type": "execute_result"
    }
   ],
   "source": [
    "df = pd.read_csv(\"TextAnalysisData/sentimentData.csv\")\n",
    "df"
   ]
  },
  {
   "cell_type": "code",
   "execution_count": 15,
   "metadata": {},
   "outputs": [
    {
     "data": {
      "text/html": [
       "<div>\n",
       "<style scoped>\n",
       "    .dataframe tbody tr th:only-of-type {\n",
       "        vertical-align: middle;\n",
       "    }\n",
       "\n",
       "    .dataframe tbody tr th {\n",
       "        vertical-align: top;\n",
       "    }\n",
       "\n",
       "    .dataframe thead th {\n",
       "        text-align: right;\n",
       "    }\n",
       "</style>\n",
       "<table border=\"1\" class=\"dataframe\">\n",
       "  <thead>\n",
       "    <tr style=\"text-align: right;\">\n",
       "      <th></th>\n",
       "      <th>Text</th>\n",
       "      <th>Author</th>\n",
       "      <th>Word</th>\n",
       "      <th>Count</th>\n",
       "      <th>TFIDF</th>\n",
       "    </tr>\n",
       "  </thead>\n",
       "  <tbody>\n",
       "    <tr>\n",
       "      <th>0</th>\n",
       "      <td>jew_of_malta.txt</td>\n",
       "      <td>Marlowe</td>\n",
       "      <td>﻿The</td>\n",
       "      <td>1</td>\n",
       "      <td>0.166667</td>\n",
       "    </tr>\n",
       "    <tr>\n",
       "      <th>1</th>\n",
       "      <td>jew_of_malta.txt</td>\n",
       "      <td>Marlowe</td>\n",
       "      <td>Project</td>\n",
       "      <td>83</td>\n",
       "      <td>11.857143</td>\n",
       "    </tr>\n",
       "    <tr>\n",
       "      <th>2</th>\n",
       "      <td>jew_of_malta.txt</td>\n",
       "      <td>Marlowe</td>\n",
       "      <td>Gutenberg</td>\n",
       "      <td>27</td>\n",
       "      <td>3.857143</td>\n",
       "    </tr>\n",
       "    <tr>\n",
       "      <th>3</th>\n",
       "      <td>jew_of_malta.txt</td>\n",
       "      <td>Marlowe</td>\n",
       "      <td>EBook</td>\n",
       "      <td>3</td>\n",
       "      <td>0.500000</td>\n",
       "    </tr>\n",
       "    <tr>\n",
       "      <th>4</th>\n",
       "      <td>jew_of_malta.txt</td>\n",
       "      <td>Marlowe</td>\n",
       "      <td>of</td>\n",
       "      <td>568</td>\n",
       "      <td>81.142857</td>\n",
       "    </tr>\n",
       "  </tbody>\n",
       "</table>\n",
       "</div>"
      ],
      "text/plain": [
       "               Text   Author       Word  Count      TFIDF\n",
       "0  jew_of_malta.txt  Marlowe       ﻿The      1   0.166667\n",
       "1  jew_of_malta.txt  Marlowe    Project     83  11.857143\n",
       "2  jew_of_malta.txt  Marlowe  Gutenberg     27   3.857143\n",
       "3  jew_of_malta.txt  Marlowe      EBook      3   0.500000\n",
       "4  jew_of_malta.txt  Marlowe         of    568  81.142857"
      ]
     },
     "execution_count": 15,
     "metadata": {},
     "output_type": "execute_result"
    }
   ],
   "source": [
    "counts = pd.read_csv(\"TextAnalysisData/rawCounts.csv\")\n",
    "counts.head()"
   ]
  },
  {
   "cell_type": "markdown",
   "metadata": {},
   "source": [
    "## Problem 5\n",
    "\n",
    "Shakespeare and Marlowe have a similar range of positive sentiment from 0.090 to 0.190. However, Shakespeare has a larger distribution of sentiment within that range whereas most of Marlowe's sentiment falls between a small range of 0.120 to 0.140. This tells me that the style of the two writers is very similar in terms of how they use positive sentiment."
   ]
  },
  {
   "cell_type": "code",
   "execution_count": 12,
   "metadata": {
    "scrolled": true
   },
   "outputs": [
    {
     "data": {
      "application/javascript": [
       "var spec = {\"config\": {\"view\": {\"width\": 400, \"height\": 300}}, \"data\": {\"name\": \"data-033e35f39209e7bd9450bf4e917ef80e\"}, \"mark\": \"point\", \"encoding\": {\"x\": {\"type\": \"nominal\", \"field\": \"Author\"}, \"y\": {\"type\": \"quantitative\", \"field\": \"Positive\"}}, \"width\": 200, \"$schema\": \"https://vega.github.io/schema/vega-lite/v2.6.0.json\", \"datasets\": {\"data-033e35f39209e7bd9450bf4e917ef80e\": [{\"Text\": \"jew_of_malta.txt\", \"Author\": \"Marlowe\", \"Positive\": 0.12, \"Negative\": 0.09, \"Neutral\": 0.79}, {\"Text\": \"massacre_at_paris.txt\", \"Author\": \"Marlowe\", \"Positive\": 0.121, \"Negative\": 0.08, \"Neutral\": 0.7979999999999999}, {\"Text\": \"tamburlaine.txt\", \"Author\": \"Marlowe\", \"Positive\": 0.141, \"Negative\": 0.091, \"Neutral\": 0.768}, {\"Text\": \"faustus.txt\", \"Author\": \"Marlowe\", \"Positive\": 0.11900000000000001, \"Negative\": 0.08900000000000001, \"Neutral\": 0.792}, {\"Text\": \"dido_queen_of_carthage.txt\", \"Author\": \"Marlowe\", \"Positive\": 0.087, \"Negative\": 0.062, \"Neutral\": 0.851}, {\"Text\": \"edward_II.txt\", \"Author\": \"Marlowe\", \"Positive\": 0.133, \"Negative\": 0.11199999999999999, \"Neutral\": 0.755}, {\"Text\": \"hero_and_leander.txt\", \"Author\": \"Marlowe\", \"Positive\": 0.19, \"Negative\": 0.1, \"Neutral\": 0.71}, {\"Text\": \"henry_vi_3.txt\", \"Author\": \"Shakespeare\", \"Positive\": 0.122, \"Negative\": 0.084, \"Neutral\": 0.794}, {\"Text\": \"love_labours_lost.txt\", \"Author\": \"Shakespeare\", \"Positive\": 0.179, \"Negative\": 0.09300000000000001, \"Neutral\": 0.7290000000000001}, {\"Text\": \"henry_vi_2.txt\", \"Author\": \"Shakespeare\", \"Positive\": 0.114, \"Negative\": 0.08900000000000001, \"Neutral\": 0.797}, {\"Text\": \"henry_vi_1.txt\", \"Author\": \"Shakespeare\", \"Positive\": 0.138, \"Negative\": 0.132, \"Neutral\": 0.731}, {\"Text\": \"richard_iii.txt\", \"Author\": \"Shakespeare\", \"Positive\": 0.157, \"Negative\": 0.147, \"Neutral\": 0.695}, {\"Text\": \"taming_of_the_shrew.txt\", \"Author\": \"Shakespeare\", \"Positive\": 0.159, \"Negative\": 0.073, \"Neutral\": 0.767}, {\"Text\": \"two_gentleman_of_verona.txt\", \"Author\": \"Shakespeare\", \"Positive\": 0.174, \"Negative\": 0.09300000000000001, \"Neutral\": 0.733}, {\"Text\": \"comedy_of_errors.txt\", \"Author\": \"Shakespeare\", \"Positive\": 0.086, \"Negative\": 0.085, \"Neutral\": 0.8290000000000001}, {\"Text\": \"edward_iii.txt\", \"Author\": \"Shakespeare\", \"Positive\": 0.152, \"Negative\": 0.126, \"Neutral\": 0.721}, {\"Text\": \"titus_andronicus.txt\", \"Author\": \"Shakespeare\", \"Positive\": 0.14, \"Negative\": 0.13699999999999998, \"Neutral\": 0.723}]}};\n",
       "var opt = {};\n",
       "var type = \"vega-lite\";\n",
       "var id = \"d0efca0a-81b6-4815-8322-81bc129e3a53\";\n",
       "\n",
       "var output_area = this;\n",
       "\n",
       "require([\"nbextensions/jupyter-vega/index\"], function(vega) {\n",
       "  var target = document.createElement(\"div\");\n",
       "  target.id = id;\n",
       "  target.className = \"vega-embed\";\n",
       "\n",
       "  var style = document.createElement(\"style\");\n",
       "  style.textContent = [\n",
       "    \".vega-embed .error p {\",\n",
       "    \"  color: firebrick;\",\n",
       "    \"  font-size: 14px;\",\n",
       "    \"}\",\n",
       "  ].join(\"\\\\n\");\n",
       "\n",
       "  // element is a jQuery wrapped DOM element inside the output area\n",
       "  // see http://ipython.readthedocs.io/en/stable/api/generated/\\\n",
       "  // IPython.display.html#IPython.display.Javascript.__init__\n",
       "  element[0].appendChild(target);\n",
       "  element[0].appendChild(style);\n",
       "\n",
       "  vega.render(\"#\" + id, spec, type, opt, output_area);\n",
       "}, function (err) {\n",
       "  if (err.requireType !== \"scripterror\") {\n",
       "    throw(err);\n",
       "  }\n",
       "});\n"
      ],
      "text/plain": [
       "<vega.vegalite.VegaLite at 0x10e2f8e10>"
      ]
     },
     "metadata": {
      "jupyter-vega": "#d0efca0a-81b6-4815-8322-81bc129e3a53"
     },
     "output_type": "display_data"
    },
    {
     "data": {
      "text/plain": []
     },
     "execution_count": 12,
     "metadata": {},
     "output_type": "execute_result"
    },
    {
     "data": {
      "image/png": "[encoded data removed]"
     },
     "metadata": {
      "jupyter-vega": "#d0efca0a-81b6-4815-8322-81bc129e3a53"
     },
     "output_type": "display_data"
    }
   ],
   "source": [
    "alt.Chart(df, width = 200).mark_point().encode(\n",
    "    x = \"Author\",\n",
    "    y = \"Positive\"\n",
    ")"
   ]
  },
  {
   "cell_type": "markdown",
   "metadata": {},
   "source": [
    "## Problem 6\n",
    "\n",
    "To compare the style of each author I compared both the overall word count and then aggregated the count of each word. When exploring the overall word count Marlowe is significantly more wordy than Shakespeare and used more words. When comparing the aggregated count of each word, Shakespeare had a slightly higher count which means that he uses the same words more often than Marlowe. This being said, Marlowe uses a wider range of vocabulary but repeats the words less often, whereas Shakespeare uses less words more often. "
   ]
  },
  {
   "cell_type": "code",
   "execution_count": 31,
   "metadata": {},
   "outputs": [
    {
     "data": {
      "application/javascript": [
       "var spec = {\"config\": {\"view\": {\"width\": 400, \"height\": 300}}, \"data\": {\"url\": \"altair-data-e95ab0deed33b6a402745a02dbe36b1a.csv\", \"format\": {\"type\": \"csv\"}}, \"mark\": \"bar\", \"encoding\": {\"x\": {\"type\": \"nominal\", \"field\": \"Author\"}, \"y\": {\"type\": \"quantitative\", \"aggregate\": \"mean\", \"field\": \"Count\"}}, \"width\": 200, \"$schema\": \"https://vega.github.io/schema/vega-lite/v2.6.0.json\"};\n",
       "var opt = {};\n",
       "var type = \"vega-lite\";\n",
       "var id = \"0e32c601-4bde-4a01-9b1a-6e034d9703ab\";\n",
       "\n",
       "var output_area = this;\n",
       "\n",
       "require([\"nbextensions/jupyter-vega/index\"], function(vega) {\n",
       "  var target = document.createElement(\"div\");\n",
       "  target.id = id;\n",
       "  target.className = \"vega-embed\";\n",
       "\n",
       "  var style = document.createElement(\"style\");\n",
       "  style.textContent = [\n",
       "    \".vega-embed .error p {\",\n",
       "    \"  color: firebrick;\",\n",
       "    \"  font-size: 14px;\",\n",
       "    \"}\",\n",
       "  ].join(\"\\\\n\");\n",
       "\n",
       "  // element is a jQuery wrapped DOM element inside the output area\n",
       "  // see http://ipython.readthedocs.io/en/stable/api/generated/\\\n",
       "  // IPython.display.html#IPython.display.Javascript.__init__\n",
       "  element[0].appendChild(target);\n",
       "  element[0].appendChild(style);\n",
       "\n",
       "  vega.render(\"#\" + id, spec, type, opt, output_area);\n",
       "}, function (err) {\n",
       "  if (err.requireType !== \"scripterror\") {\n",
       "    throw(err);\n",
       "  }\n",
       "});\n"
      ],
      "text/plain": [
       "<vega.vegalite.VegaLite at 0x102b6fc18>"
      ]
     },
     "metadata": {
      "jupyter-vega": "#0e32c601-4bde-4a01-9b1a-6e034d9703ab"
     },
     "output_type": "display_data"
    },
    {
     "data": {
      "text/plain": []
     },
     "execution_count": 31,
     "metadata": {},
     "output_type": "execute_result"
    },
    {
     "data": {
      "image/png": "[encoded data removed]"
     },
     "metadata": {
      "jupyter-vega": "#0e32c601-4bde-4a01-9b1a-6e034d9703ab"
     },
     "output_type": "display_data"
    }
   ],
   "source": [
    "alt.data_transformers.enable('csv')\n",
    "\n",
    "alt.Chart(counts, width = 200).mark_bar().encode(\n",
    "    x = \"Author\",\n",
    "#    y = \"Count\"\n",
    "    y = alt.Y(field='Count', aggregate='mean', type='quantitative')\n",
    ")"
   ]
  },
  {
   "cell_type": "markdown",
   "metadata": {},
   "source": [
    "## Problem 7"
   ]
  },
  {
   "cell_type": "code",
   "execution_count": 44,
   "metadata": {},
   "outputs": [
    {
     "data": {
      "application/javascript": [
       "var spec = {\"config\": {\"view\": {\"width\": 400, \"height\": 300}}, \"data\": {\"url\": \"altair-data-e95ab0deed33b6a402745a02dbe36b1a.csv\", \"format\": {\"type\": \"csv\"}}, \"mark\": \"bar\", \"encoding\": {\"x\": {\"type\": \"nominal\", \"field\": \"Text\"}, \"y\": {\"type\": \"quantitative\", \"field\": \"Count\"}}, \"$schema\": \"https://vega.github.io/schema/vega-lite/v2.6.0.json\"};\n",
       "var opt = {};\n",
       "var type = \"vega-lite\";\n",
       "var id = \"70b9d719-0e49-4a17-8ec3-79ebc994a7d5\";\n",
       "\n",
       "var output_area = this;\n",
       "\n",
       "require([\"nbextensions/jupyter-vega/index\"], function(vega) {\n",
       "  var target = document.createElement(\"div\");\n",
       "  target.id = id;\n",
       "  target.className = \"vega-embed\";\n",
       "\n",
       "  var style = document.createElement(\"style\");\n",
       "  style.textContent = [\n",
       "    \".vega-embed .error p {\",\n",
       "    \"  color: firebrick;\",\n",
       "    \"  font-size: 14px;\",\n",
       "    \"}\",\n",
       "  ].join(\"\\\\n\");\n",
       "\n",
       "  // element is a jQuery wrapped DOM element inside the output area\n",
       "  // see http://ipython.readthedocs.io/en/stable/api/generated/\\\n",
       "  // IPython.display.html#IPython.display.Javascript.__init__\n",
       "  element[0].appendChild(target);\n",
       "  element[0].appendChild(style);\n",
       "\n",
       "  vega.render(\"#\" + id, spec, type, opt, output_area);\n",
       "}, function (err) {\n",
       "  if (err.requireType !== \"scripterror\") {\n",
       "    throw(err);\n",
       "  }\n",
       "});\n"
      ],
      "text/plain": [
       "<vega.vegalite.VegaLite at 0x10e793400>"
      ]
     },
     "metadata": {
      "jupyter-vega": "#70b9d719-0e49-4a17-8ec3-79ebc994a7d5"
     },
     "output_type": "display_data"
    },
    {
     "data": {
      "text/plain": []
     },
     "execution_count": 44,
     "metadata": {},
     "output_type": "execute_result"
    },
    {
     "data": {
      "image/png": "[encoded data removed]"
     },
     "metadata": {
      "jupyter-vega": "#70b9d719-0e49-4a17-8ec3-79ebc994a7d5"
     },
     "output_type": "display_data"
    }
   ],
   "source": [
    "# Looking at the average word count for each text and also looking at the chart for problem 6 it is incredibly\n",
    "# difficult to tell who wrote each text because the overall word counts and average count of each word is so \n",
    "# similar. The word count across all text is pretty similar with only a few outliers occurring with \"Hero and Leander\"\n",
    "# and \"Tamburlaine\". These findings would support the argument that they did collaborate because their text follows\n",
    "# similar word trends. \n",
    "\n",
    "alt.Chart(counts).mark_bar().encode(\n",
    "    x = 'Text',\n",
    "    y = 'Count'\n",
    "#    y = 'average(Count)'\n",
    ")"
   ]
  },
  {
   "cell_type": "code",
   "execution_count": 38,
   "metadata": {},
   "outputs": [
    {
     "data": {
      "application/javascript": [
       "var spec = {\"config\": {\"view\": {\"width\": 400, \"height\": 300}}, \"data\": {\"url\": \"altair-data-81faf182ad2b6cc3134d465300d7dae7.csv\", \"format\": {\"type\": \"csv\"}}, \"mark\": \"point\", \"encoding\": {\"x\": {\"type\": \"nominal\", \"field\": \"Author\"}, \"y\": {\"type\": \"quantitative\", \"field\": \"Negative\"}}, \"width\": 200, \"$schema\": \"https://vega.github.io/schema/vega-lite/v2.6.0.json\"};\n",
       "var opt = {};\n",
       "var type = \"vega-lite\";\n",
       "var id = \"a76c159f-4fe9-4b5e-a6e6-3a8be5d87d58\";\n",
       "\n",
       "var output_area = this;\n",
       "\n",
       "require([\"nbextensions/jupyter-vega/index\"], function(vega) {\n",
       "  var target = document.createElement(\"div\");\n",
       "  target.id = id;\n",
       "  target.className = \"vega-embed\";\n",
       "\n",
       "  var style = document.createElement(\"style\");\n",
       "  style.textContent = [\n",
       "    \".vega-embed .error p {\",\n",
       "    \"  color: firebrick;\",\n",
       "    \"  font-size: 14px;\",\n",
       "    \"}\",\n",
       "  ].join(\"\\\\n\");\n",
       "\n",
       "  // element is a jQuery wrapped DOM element inside the output area\n",
       "  // see http://ipython.readthedocs.io/en/stable/api/generated/\\\n",
       "  // IPython.display.html#IPython.display.Javascript.__init__\n",
       "  element[0].appendChild(target);\n",
       "  element[0].appendChild(style);\n",
       "\n",
       "  vega.render(\"#\" + id, spec, type, opt, output_area);\n",
       "}, function (err) {\n",
       "  if (err.requireType !== \"scripterror\") {\n",
       "    throw(err);\n",
       "  }\n",
       "});\n"
      ],
      "text/plain": [
       "<vega.vegalite.VegaLite at 0x10e793a58>"
      ]
     },
     "metadata": {
      "jupyter-vega": "#a76c159f-4fe9-4b5e-a6e6-3a8be5d87d58"
     },
     "output_type": "display_data"
    },
    {
     "data": {
      "text/plain": []
     },
     "execution_count": 38,
     "metadata": {},
     "output_type": "execute_result"
    },
    {
     "data": {
      "image/png": "[encoded data removed]"
     },
     "metadata": {
      "jupyter-vega": "#a76c159f-4fe9-4b5e-a6e6-3a8be5d87d58"
     },
     "output_type": "display_data"
    }
   ],
   "source": [
    "# The negative sentiment pattern is interesting to look at because there is actually a difference between the authors\n",
    "# where everything else seems to be very similar. Marlowe has less variation of negative sentiment between his texts\n",
    "# and is generally more negative than Shakespeare. Shakespeare has a larger variation of negative sentiment with some\n",
    "# of his text being significantly more negative than the others. \n",
    "\n",
    "alt.Chart(df, width = 200).mark_point().encode(\n",
    "    x = \"Author\",\n",
    "    y = \"Negative\"\n",
    ")"
   ]
  },
  {
   "cell_type": "code",
   "execution_count": 46,
   "metadata": {},
   "outputs": [
    {
     "data": {
      "application/javascript": [
       "var spec = {\"config\": {\"view\": {\"width\": 400, \"height\": 300}}, \"data\": {\"url\": \"altair-data-e95ab0deed33b6a402745a02dbe36b1a.csv\", \"format\": {\"type\": \"csv\"}}, \"mark\": \"bar\", \"encoding\": {\"x\": {\"type\": \"nominal\", \"field\": \"Author\"}, \"y\": {\"type\": \"quantitative\", \"aggregate\": \"average\", \"field\": \"TFIDF\"}}, \"$schema\": \"https://vega.github.io/schema/vega-lite/v2.6.0.json\"};\n",
       "var opt = {};\n",
       "var type = \"vega-lite\";\n",
       "var id = \"8a8e09ca-e8b2-409b-9717-eea1ce0b6204\";\n",
       "\n",
       "var output_area = this;\n",
       "\n",
       "require([\"nbextensions/jupyter-vega/index\"], function(vega) {\n",
       "  var target = document.createElement(\"div\");\n",
       "  target.id = id;\n",
       "  target.className = \"vega-embed\";\n",
       "\n",
       "  var style = document.createElement(\"style\");\n",
       "  style.textContent = [\n",
       "    \".vega-embed .error p {\",\n",
       "    \"  color: firebrick;\",\n",
       "    \"  font-size: 14px;\",\n",
       "    \"}\",\n",
       "  ].join(\"\\\\n\");\n",
       "\n",
       "  // element is a jQuery wrapped DOM element inside the output area\n",
       "  // see http://ipython.readthedocs.io/en/stable/api/generated/\\\n",
       "  // IPython.display.html#IPython.display.Javascript.__init__\n",
       "  element[0].appendChild(target);\n",
       "  element[0].appendChild(style);\n",
       "\n",
       "  vega.render(\"#\" + id, spec, type, opt, output_area);\n",
       "}, function (err) {\n",
       "  if (err.requireType !== \"scripterror\") {\n",
       "    throw(err);\n",
       "  }\n",
       "});\n"
      ],
      "text/plain": [
       "<vega.vegalite.VegaLite at 0x10e7937b8>"
      ]
     },
     "metadata": {
      "jupyter-vega": "#8a8e09ca-e8b2-409b-9717-eea1ce0b6204"
     },
     "output_type": "display_data"
    },
    {
     "data": {
      "text/plain": []
     },
     "execution_count": 46,
     "metadata": {},
     "output_type": "execute_result"
    },
    {
     "data": {
      "image/png": "[encoded data removed]"
     },
     "metadata": {
      "jupyter-vega": "#8a8e09ca-e8b2-409b-9717-eea1ce0b6204"
     },
     "output_type": "display_data"
    }
   ],
   "source": [
    "# This visual is interesting because it supports the findings I had in problem 6. This visual shows that Marlowe \n",
    "# has a higher TFIDF than Shakespeare. This means that Marlowe uses more words less often than Shakespeare. This\n",
    "# results in a high TFIDF because the word is more unique in the documents and is weighted more than words that are \n",
    "# repeated often.\n",
    "\n",
    "alt.Chart(counts).mark_bar().encode(\n",
    "    x = 'Author',\n",
    "    y = 'average(TFIDF)'\n",
    ")"
   ]
  },
  {
   "cell_type": "code",
   "execution_count": null,
   "metadata": {},
   "outputs": [],
   "source": []
  }
 ],
 "metadata": {
  "kernelspec": {
   "display_name": "Python 3",
   "language": "python",
   "name": "python3"
  },
  "language_info": {
   "codemirror_mode": {
    "name": "ipython",
    "version": 3
   },
   "file_extension": ".py",
   "mimetype": "text/x-python",
   "name": "python",
   "nbconvert_exporter": "python",
   "pygments_lexer": "ipython3",
   "version": "3.6.3"
  }
 },
 "nbformat": 4,
 "nbformat_minor": 2
}
